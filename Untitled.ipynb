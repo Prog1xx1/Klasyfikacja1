{
 "cells": [
  {
   "cell_type": "code",
   "execution_count": null,
   "id": "49ff517c",
   "metadata": {},
   "outputs": [],
   "source": [
    "import pandas as pd\n",
    "import numpy as np\n",
    "from sklearn.model_selection import train_test_split\n",
    "from sklearn.model_selection import StratifiedShuffleSplit\n",
    "from sklearn.preprocessing import OneHotEncoder\n",
    "from sklearn.pipeline import Pipeline\n",
    "from sklearn.compose import ColumnTransformer\n",
    "from sklearn.preprocessing import StandardScaler"
   ]
  },
  {
   "cell_type": "code",
   "execution_count": 72,
   "id": "f4786913",
   "metadata": {},
   "outputs": [
    {
     "name": "stdout",
     "output_type": "stream",
     "text": [
      "   YEAR   MAKE    MODEL VEHICLE CLASS  ENGINE SIZE  CYLINDERS TRANSMISSION  \\\n",
      "0  2000  ACURA    1.6EL       COMPACT          1.6          4           A4   \n",
      "1  2000  ACURA    1.6EL       COMPACT          1.6          4           M5   \n",
      "2  2000  ACURA    3.2TL      MID-SIZE          3.2          6          AS5   \n",
      "3  2000  ACURA    3.5RL      MID-SIZE          3.5          6           A4   \n",
      "4  2000  ACURA  INTEGRA    SUBCOMPACT          1.8          4           A4   \n",
      "\n",
      "  FUEL  FUEL CONSUMPTION  HWY (L/100 km)  COMB (L/100 km)  COMB (mpg)  \\\n",
      "0    X               9.2             6.7              8.1          35   \n",
      "1    X               8.5             6.5              7.6          37   \n",
      "2    Z              12.2             7.4             10.0          28   \n",
      "3    Z              13.4             9.2             11.5          25   \n",
      "4    X              10.0             7.0              8.6          33   \n",
      "\n",
      "   EMISSIONS  \n",
      "0        186  \n",
      "1        175  \n",
      "2        230  \n",
      "3        264  \n",
      "4        198  \n",
      "<class 'pandas.core.frame.DataFrame'>\n",
      "RangeIndex: 22556 entries, 0 to 22555\n",
      "Data columns (total 13 columns):\n",
      " #   Column            Non-Null Count  Dtype  \n",
      "---  ------            --------------  -----  \n",
      " 0   YEAR              22556 non-null  int64  \n",
      " 1   MAKE              22556 non-null  object \n",
      " 2   MODEL             22556 non-null  object \n",
      " 3   VEHICLE CLASS     22556 non-null  object \n",
      " 4   ENGINE SIZE       22556 non-null  float64\n",
      " 5   CYLINDERS         22556 non-null  int64  \n",
      " 6   TRANSMISSION      22556 non-null  object \n",
      " 7   FUEL              22556 non-null  object \n",
      " 8   FUEL CONSUMPTION  22556 non-null  float64\n",
      " 9   HWY (L/100 km)    22556 non-null  float64\n",
      " 10  COMB (L/100 km)   22556 non-null  float64\n",
      " 11  COMB (mpg)        22556 non-null  int64  \n",
      " 12  EMISSIONS         22556 non-null  int64  \n",
      "dtypes: float64(4), int64(4), object(5)\n",
      "memory usage: 2.2+ MB\n",
      "None\n"
     ]
    }
   ],
   "source": [
    "df = pd.read_csv(\"FC.csv\", sep=',')\n",
    "print(df.head())\n",
    "print(df.info())"
   ]
  },
  {
   "cell_type": "code",
   "execution_count": 69,
   "id": "049dab3a",
   "metadata": {},
   "outputs": [],
   "source": [
    "maska = df[\"ENGINE SIZE\"] == 4.1\n",
    "df = df.drop(df[maska].index)"
   ]
  },
  {
   "cell_type": "code",
   "execution_count": null,
   "id": "fb04b2cf",
   "metadata": {
    "scrolled": false
   },
   "outputs": [],
   "source": [
    "df[\"MODEL\"].value_counts()"
   ]
  },
  {
   "cell_type": "code",
   "execution_count": 73,
   "id": "e343bea3",
   "metadata": {},
   "outputs": [
    {
     "data": {
      "text/plain": [
       "X    11822\n",
       "Z     9316\n",
       "E     1071\n",
       "D      314\n",
       "N       33\n",
       "Name: FUEL, dtype: int64"
      ]
     },
     "execution_count": 73,
     "metadata": {},
     "output_type": "execute_result"
    }
   ],
   "source": [
    "df[\"FUEL\"].value_counts()"
   ]
  },
  {
   "cell_type": "code",
   "execution_count": null,
   "id": "a3184cd3",
   "metadata": {},
   "outputs": [],
   "source": [
    "Train, Test = train_test_split(df, test_size=0.2,random_state=42)\n",
    "Train.describe()"
   ]
  },
  {
   "cell_type": "code",
   "execution_count": 74,
   "id": "8d2c4542",
   "metadata": {},
   "outputs": [
    {
     "name": "stdout",
     "output_type": "stream",
     "text": [
      "<class 'pandas.core.frame.DataFrame'>\n",
      "Int64Index: 4512 entries, 2917 to 2226\n",
      "Data columns (total 13 columns):\n",
      " #   Column            Non-Null Count  Dtype  \n",
      "---  ------            --------------  -----  \n",
      " 0   YEAR              4512 non-null   int64  \n",
      " 1   MAKE              4512 non-null   object \n",
      " 2   MODEL             4512 non-null   object \n",
      " 3   VEHICLE CLASS     4512 non-null   object \n",
      " 4   ENGINE SIZE       4512 non-null   float64\n",
      " 5   CYLINDERS         4512 non-null   int64  \n",
      " 6   TRANSMISSION      4512 non-null   object \n",
      " 7   FUEL              4512 non-null   object \n",
      " 8   FUEL CONSUMPTION  4512 non-null   float64\n",
      " 9   HWY (L/100 km)    4512 non-null   float64\n",
      " 10  COMB (L/100 km)   4512 non-null   float64\n",
      " 11  COMB (mpg)        4512 non-null   int64  \n",
      " 12  EMISSIONS         4512 non-null   int64  \n",
      "dtypes: float64(4), int64(4), object(5)\n",
      "memory usage: 493.5+ KB\n"
     ]
    }
   ],
   "source": [
    "sss = StratifiedShuffleSplit(test_size=0.2, random_state=42)\n",
    "#train = sss.split(df,df[\"YEAR\"])\n",
    "#train.describe()\n",
    "for train_index, test_index in sss.split(df,df[\"FUEL\"]):\n",
    " strat_train_set = df.loc[train_index]\n",
    " strat_test_set = df.loc[test_index]\n",
    "strat_test_set.info()"
   ]
  },
  {
   "cell_type": "code",
   "execution_count": 75,
   "id": "a9c4b6b0",
   "metadata": {},
   "outputs": [
    {
     "data": {
      "text/plain": [
       "21522    Z\n",
       "11836    Z\n",
       "13004    X\n",
       "5417     Z\n",
       "13527    X\n",
       "Name: FUEL, dtype: object"
      ]
     },
     "execution_count": 75,
     "metadata": {},
     "output_type": "execute_result"
    }
   ],
   "source": [
    "train_set = strat_train_set.drop(\"FUEL\",axis=1)\n",
    "labels_train = strat_train_set[\"FUEL\"].copy()\n",
    "labels_train.head()"
   ]
  },
  {
   "cell_type": "code",
   "execution_count": null,
   "id": "dec90c69",
   "metadata": {},
   "outputs": [],
   "source": [
    "cat_encoder = OneHotEncoder()\n",
    "year_h = cat_encoder.fit_transform(strat_train_set[[\"MAKE\"]])"
   ]
  },
  {
   "cell_type": "code",
   "execution_count": null,
   "id": "b4ac0bc1",
   "metadata": {},
   "outputs": [],
   "source": [
    "cat_encoder.categories_"
   ]
  },
  {
   "cell_type": "code",
   "execution_count": null,
   "id": "756c77b9",
   "metadata": {},
   "outputs": [],
   "source": [
    "cat_pipeline = Pipeline ([\n",
    "    (\"cat1\",OneHotEncoder(),[\"MAKE\"]),\n",
    "    (\"cat2\",OneHotEncoder(),[\"MODEL\"]),\n",
    "    (\"cat3\",OneHotEncoder(),[\"VEHICLE CLASS\"]),\n",
    "    (\"cat4\",OneHotEncoder(),[\"RANSMISSION\"]),\n",
    "    (\"cat5\",OneHotEncoder(),[\"FUEL\"]),\n",
    "])"
   ]
  },
  {
   "cell_type": "code",
   "execution_count": null,
   "id": "9116c34c",
   "metadata": {},
   "outputs": [],
   "source": [
    "num_pipeline = Pipeline ([\n",
    "    (\"cat1\",StandardScaler(),[\"ENGINE SIZE\"]),\n",
    "    (\"cat2\",StandardScaler(),[\"CYLINDERS\"]),\n",
    "    (\"cat3\",StandardScaler(),[\"FUEL CONSUMPTION\"]),\n",
    "    (\"cat4\",StandardScaler(),[\"HWY (L/100 km)\"]),\n",
    "    (\"cat5\",StandardScaler(),[\"COMB (L/100 km)\"]),\n",
    "    (\"cat5\",StandardScaler(),[\"COMB (mpg)\"]),\n",
    "    (\"cat5\",StandardScaler(),[\"EMISSIONS\"]),\n",
    "])"
   ]
  },
  {
   "cell_type": "code",
   "execution_count": 76,
   "id": "3d1c418e",
   "metadata": {},
   "outputs": [],
   "source": [
    "cat_atr = [\"MAKE\",\"MODEL\",\"VEHICLE CLASS\",\"TRANSMISSION\"]\n",
    "num_atr = [\"ENGINE SIZE\",\"YEAR\",\"CYLINDERS\",\"FUEL CONSUMPTION\",\"HWY (L/100 km)\",\"COMB (L/100 km)\",\"COMB (mpg)\",\"EMISSIONS\"]\n",
    "full_pipeline = ColumnTransformer([\n",
    " (\"num\", StandardScaler(), num_atr),\n",
    " (\"cat\", OneHotEncoder(), cat_atr),\n",
    " ])\n",
    "train_prepared = full_pipeline.fit_transform(train_set)"
   ]
  },
  {
   "cell_type": "code",
   "execution_count": 77,
   "id": "0d5f0cda",
   "metadata": {},
   "outputs": [
    {
     "data": {
      "text/plain": [
       "Index(['YEAR', 'MAKE', 'MODEL', 'VEHICLE CLASS', 'ENGINE SIZE', 'CYLINDERS',\n",
       "       'TRANSMISSION', 'FUEL CONSUMPTION', 'HWY (L/100 km)', 'COMB (L/100 km)',\n",
       "       'COMB (mpg)', 'EMISSIONS'],\n",
       "      dtype='object')"
      ]
     },
     "execution_count": 77,
     "metadata": {},
     "output_type": "execute_result"
    }
   ],
   "source": [
    "train_set.columns"
   ]
  },
  {
   "cell_type": "code",
   "execution_count": 78,
   "id": "6096ac1d",
   "metadata": {},
   "outputs": [
    {
     "name": "stdout",
     "output_type": "stream",
     "text": [
      "Koniec\n"
     ]
    }
   ],
   "source": [
    "from sklearn.linear_model import SGDClassifier\n",
    "from sklearn import svm\n",
    "lin_reg = svm.SVC(C=0.1, kernel = 'linear',random_state=42)\n",
    "#lin_reg.fit(train_prepared, labels_train)\n",
    "print(\"Koniec\")"
   ]
  },
  {
   "cell_type": "code",
   "execution_count": 79,
   "id": "713cc8a8",
   "metadata": {},
   "outputs": [
    {
     "data": {
      "text/plain": [
       "array([0.93100582, 0.93266833, 0.93398736])"
      ]
     },
     "execution_count": 79,
     "metadata": {},
     "output_type": "execute_result"
    }
   ],
   "source": [
    "from sklearn.model_selection import cross_val_score\n",
    "cross_val_score(lin_reg, train_prepared, labels_train, cv=3, scoring=\"accuracy\")"
   ]
  },
  {
   "cell_type": "code",
   "execution_count": 59,
   "id": "f967b658",
   "metadata": {
    "scrolled": true
   },
   "outputs": [
    {
     "ename": "AttributeError",
     "evalue": "'DataFrame' object has no attribute 'ravel'",
     "output_type": "error",
     "traceback": [
      "\u001b[1;31m---------------------------------------------------------------------------\u001b[0m",
      "\u001b[1;31mAttributeError\u001b[0m                            Traceback (most recent call last)",
      "Cell \u001b[1;32mIn[59], line 1\u001b[0m\n\u001b[1;32m----> 1\u001b[0m labels_train\u001b[38;5;241m=\u001b[39m\u001b[43mlabels_train\u001b[49m\u001b[38;5;241;43m.\u001b[39;49m\u001b[43mravel\u001b[49m()\n",
      "File \u001b[1;32m~\\.virtualenvs\\Pierwszy-kq2OUEID\\lib\\site-packages\\pandas\\core\\generic.py:5902\u001b[0m, in \u001b[0;36mNDFrame.__getattr__\u001b[1;34m(self, name)\u001b[0m\n\u001b[0;32m   5895\u001b[0m \u001b[38;5;28;01mif\u001b[39;00m (\n\u001b[0;32m   5896\u001b[0m     name \u001b[38;5;129;01mnot\u001b[39;00m \u001b[38;5;129;01min\u001b[39;00m \u001b[38;5;28mself\u001b[39m\u001b[38;5;241m.\u001b[39m_internal_names_set\n\u001b[0;32m   5897\u001b[0m     \u001b[38;5;129;01mand\u001b[39;00m name \u001b[38;5;129;01mnot\u001b[39;00m \u001b[38;5;129;01min\u001b[39;00m \u001b[38;5;28mself\u001b[39m\u001b[38;5;241m.\u001b[39m_metadata\n\u001b[0;32m   5898\u001b[0m     \u001b[38;5;129;01mand\u001b[39;00m name \u001b[38;5;129;01mnot\u001b[39;00m \u001b[38;5;129;01min\u001b[39;00m \u001b[38;5;28mself\u001b[39m\u001b[38;5;241m.\u001b[39m_accessors\n\u001b[0;32m   5899\u001b[0m     \u001b[38;5;129;01mand\u001b[39;00m \u001b[38;5;28mself\u001b[39m\u001b[38;5;241m.\u001b[39m_info_axis\u001b[38;5;241m.\u001b[39m_can_hold_identifiers_and_holds_name(name)\n\u001b[0;32m   5900\u001b[0m ):\n\u001b[0;32m   5901\u001b[0m     \u001b[38;5;28;01mreturn\u001b[39;00m \u001b[38;5;28mself\u001b[39m[name]\n\u001b[1;32m-> 5902\u001b[0m \u001b[38;5;28;01mreturn\u001b[39;00m \u001b[38;5;28;43mobject\u001b[39;49m\u001b[38;5;241;43m.\u001b[39;49m\u001b[38;5;21;43m__getattribute__\u001b[39;49m\u001b[43m(\u001b[49m\u001b[38;5;28;43mself\u001b[39;49m\u001b[43m,\u001b[49m\u001b[43m \u001b[49m\u001b[43mname\u001b[49m\u001b[43m)\u001b[49m\n",
      "\u001b[1;31mAttributeError\u001b[0m: 'DataFrame' object has no attribute 'ravel'"
     ]
    }
   ],
   "source": []
  },
  {
   "cell_type": "code",
   "execution_count": 62,
   "id": "f80ac22b",
   "metadata": {},
   "outputs": [
    {
     "ename": "TypeError",
     "evalue": "'RandomizedSearchCV' object is not callable",
     "output_type": "error",
     "traceback": [
      "\u001b[1;31m---------------------------------------------------------------------------\u001b[0m",
      "\u001b[1;31mTypeError\u001b[0m                                 Traceback (most recent call last)",
      "Cell \u001b[1;32mIn[62], line 6\u001b[0m\n\u001b[0;32m      4\u001b[0m clf \u001b[38;5;241m=\u001b[39m RandomizedSearchCV(lin_reg,parametry, random_state\u001b[38;5;241m=\u001b[39m\u001b[38;5;241m42\u001b[39m)\n\u001b[0;32m      5\u001b[0m search \u001b[38;5;241m=\u001b[39m clf\u001b[38;5;241m.\u001b[39mfit(train_prepared, labels_train)\n\u001b[1;32m----> 6\u001b[0m \u001b[43msearch\u001b[49m\u001b[43m(\u001b[49m\u001b[43m)\u001b[49m\n",
      "\u001b[1;31mTypeError\u001b[0m: 'RandomizedSearchCV' object is not callable"
     ]
    }
   ],
   "source": [
    "from sklearn.model_selection import RandomizedSearchCV\n",
    "parametry = {'C': [0.001, 0.01, 0.1, 1, 10, 100],\n",
    "             'kernel' : ['linear', 'poly', 'rbf', 'sigmoid',]}\n",
    "clf = RandomizedSearchCV(lin_reg,parametry, random_state=42)\n",
    "search = clf.fit(train_prepared, labels_train)\n"
   ]
  },
  {
   "cell_type": "code",
   "execution_count": 63,
   "id": "7d94b97b",
   "metadata": {},
   "outputs": [
    {
     "data": {
      "text/plain": [
       "{'kernel': 'linear', 'C': 0.1}"
      ]
     },
     "execution_count": 63,
     "metadata": {},
     "output_type": "execute_result"
    }
   ],
   "source": [
    "search.best_params_"
   ]
  },
  {
   "cell_type": "code",
   "execution_count": null,
   "id": "cff4b6ce",
   "metadata": {},
   "outputs": [],
   "source": []
  }
 ],
 "metadata": {
  "kernelspec": {
   "display_name": "Python 3 (ipykernel)",
   "language": "python",
   "name": "python3"
  },
  "language_info": {
   "codemirror_mode": {
    "name": "ipython",
    "version": 3
   },
   "file_extension": ".py",
   "mimetype": "text/x-python",
   "name": "python",
   "nbconvert_exporter": "python",
   "pygments_lexer": "ipython3",
   "version": "3.10.0"
  }
 },
 "nbformat": 4,
 "nbformat_minor": 5
}
